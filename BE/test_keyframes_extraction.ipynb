{
 "cells": [
  {
   "cell_type": "code",
   "execution_count": 4,
   "metadata": {},
   "outputs": [],
   "source": [
    "from frame_processing.utils.function import *"
   ]
  },
  {
   "cell_type": "code",
   "execution_count": 5,
   "metadata": {},
   "outputs": [],
   "source": [
    "video_path = r\"C:\\Users\\ADMIN\\Videos\\2024-07-05 16-00-58.mp4\""
   ]
  },
  {
   "cell_type": "code",
   "execution_count": 6,
   "metadata": {},
   "outputs": [
    {
     "name": "stderr",
     "output_type": "stream",
     "text": [
      "Processing video frames: 100%|██████████| 8356/8356 [02:20<00:00, 59.44it/s]\n"
     ]
    }
   ],
   "source": [
    "tau = 0.99\n",
    "output_folder2 = r\"D:\\Machine_Learning\\AIC\\frames_step_10\"\n",
    "keyframes, sim_score = select_keyframes(video_path, tau, output_folder2, step=10)"
   ]
  }
 ],
 "metadata": {
  "kernelspec": {
   "display_name": "AIC",
   "language": "python",
   "name": "python3"
  },
  "language_info": {
   "codemirror_mode": {
    "name": "ipython",
    "version": 3
   },
   "file_extension": ".py",
   "mimetype": "text/x-python",
   "name": "python",
   "nbconvert_exporter": "python",
   "pygments_lexer": "ipython3",
   "version": "3.12.4"
  }
 },
 "nbformat": 4,
 "nbformat_minor": 2
}
