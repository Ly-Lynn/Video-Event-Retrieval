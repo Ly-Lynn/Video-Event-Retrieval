{
 "cells": [
  {
   "cell_type": "code",
   "execution_count": 3,
   "metadata": {},
   "outputs": [],
   "source": [
    "# from test_vqa import get_answer"
   ]
  },
  {
   "cell_type": "code",
   "execution_count": 1,
   "metadata": {},
   "outputs": [],
   "source": [
    "import pathlib\n",
    "def get_full_path_key_f(key_index):\n",
    "  infor = key_index.split('_')\n",
    "\n",
    "  jpg_path = pathlib.Path( f'/mnt/mmlab2024/nthy/Video/Videos_{infor[0]}/video/{infor[0]}_{infor[1]}/{infor[0]}_{infor[1]}_{infor[2]}.jpg')\n",
    "  png_path = pathlib.Path( f'/mnt/mmlab2024/nthy/Video/Videos_{infor[0]}/video/{infor[0]}_{infor[1]}/{infor[0]}_{infor[1]}_{infor[2]}.png')\n",
    "\n",
    "  # print(jpg_path)\n",
    "  return str(jpg_path) if jpg_path.exists() else str(png_path)\n",
    "\n",
    "from tqdm import tqdm\n",
    "import pandas as pd\n",
    "# def add_answer_to_csv(file, ques):\n",
    "#   df = pd.read_csv(file, header = None, names=[\"video\", \"frame_index\"])\n",
    "#   video = df[\"video\"].tolist()\n",
    "#   frame_index = [str(i).zfill(6) for i in df[\"frame_index\"].tolist()]\n",
    "#   full_index = [video[i] + '_' + str(frame_index[i]) for i in range(len(video))]\n",
    "\n",
    "#   images_path = [get_full_path_key_f(i) for i in full_index]\n",
    "#   answers = [get_answer(images_path[i], ques) for i in tqdm(range(10))]\n",
    "\n",
    "#   if len(answers) < 100:\n",
    "#     answers += [''] * (100 - len(answers))\n",
    "#   df = pd.DataFrame.from_dict({\"video_name\" : video, \"index\" : frame_index, \"answer\" : answers})\n",
    "\n",
    "#   df.to_csv(file, index=False, header=False)\n",
    "\n",
    "def add_answer_to_csv_by_hand(file, top_answer = []):\n",
    "  if 'qa' in file.split('/')[-1]:\n",
    "    df = pd.read_csv(file, header = None, names=[\"video\", \"frame_index\", \"answer\"])\n",
    "  else:\n",
    "    df = pd.read_csv(file, header = None, names=[\"video\", \"frame_index\"])\n",
    "  video = df[\"video\"].tolist()\n",
    "  frame_index = [str(i).zfill(6) for i in df[\"frame_index\"].tolist()]\n",
    "\n",
    "  answers = top_answer\n",
    "\n",
    "  if len(answers) < len(video):\n",
    "    answers += [''] * (len(video) - len(answers))\n",
    "  df = pd.DataFrame.from_dict({\"video_name\" : video, \"index\" : frame_index, \"answer\" : answers})\n",
    "\n",
    "  df.to_csv(file, index=False, header=False)\n",
    "\n",
    "import matplotlib.pyplot as plt\n",
    "import matplotlib.image as mpimg\n",
    "\n",
    "\n",
    "def display_images(image_paths, priority_index = [], title = \"\"):\n",
    "    \"\"\"\n",
    "    Displays a list of images in a single column.\n",
    "\n",
    "    Parameters:\n",
    "    image_paths (list): List of image file paths to be displayed.\n",
    "    title (str): The title for the plot.\n",
    "    \"\"\"\n",
    "    num_images = len(image_paths)\n",
    "\n",
    "    prioritized_images = [image_paths[i] for i in priority_index]\n",
    "    remain_images = [image_paths[i] for i in range(len(image_paths)) if i not in priority_index]\n",
    "    \n",
    "    image_paths = prioritized_images + remain_images\n",
    "\n",
    "    # Create a figure with num_images rows and 1 column\n",
    "    fig, axes = plt.subplots(num_images, 1, figsize=(6, num_images * 4))\n",
    "\n",
    "    # Add a title to the entire figure\n",
    "    fig.suptitle(title, fontsize=16)\n",
    "\n",
    "    # Ensure axes is always a list (handles single image case)\n",
    "    if num_images == 1:\n",
    "        axes = [axes]\n",
    "    \n",
    "    index = 0\n",
    "    # Iterate through the list of image paths and display each image\n",
    "    for ax, img_path in zip(axes, image_paths):\n",
    "        img = mpimg.imread(img_path)\n",
    "        ax.imshow(img)\n",
    "        ax.set_title(f\"Index: {index}, {img_path.split('/')[-1].split('.')[0]}\", fontsize=10)  # Set title to each image\n",
    "        # ax.set_title(f\"Index: {index}\", fontsize=10)\n",
    "        ax.axis('off')  # Hide axes\n",
    "        index += 1\n",
    "    \n",
    "    plt.tight_layout(rect=[0, 0, 1, 0.97])  # Adjust layout to fit title\n",
    "    plt.show()\n",
    "\n",
    "\n",
    "def display_images_from_csv(file):\n",
    "  if 'qa' in file.split('/')[-1]:\n",
    "    df = pd.read_csv(file, header = None, names=[\"video\", \"frame_index\", \"answer\"])\n",
    "  else:\n",
    "    df = pd.read_csv(file, header = None, names=[\"video\", \"frame_index\"])\n",
    "  video = df[\"video\"].tolist()\n",
    "  frame_index = [str(i).zfill(6) for i in df[\"frame_index\"].tolist()]\n",
    "  full_index = [video[i] + '_' + str(frame_index[i]) for i in range(len(video))]\n",
    "\n",
    "  images_path = [get_full_path_key_f(i) for i in full_index]\n",
    "  display_images(images_path)"
   ]
  },
  {
   "cell_type": "markdown",
   "metadata": {},
   "source": [
    "# RUN"
   ]
  },
  {
   "cell_type": "code",
   "execution_count": 2,
   "metadata": {},
   "outputs": [],
   "source": [
    "csv_file = \"/mnt/mmlab2024/datasets/thi/test_submit/query-5-vqa.csv\""
   ]
  },
  {
   "cell_type": "code",
   "execution_count": 5,
   "metadata": {},
   "outputs": [],
   "source": [
    "# add_answer_to_csv(csv_file, \"What is the percentage discount on this product? (Just write the number)\")\n",
    "# import random, numpy\n",
    "# add_answer_to_csv_by_hand(csv_file, numpy.random.randint(1,20, 100).tolist())\n",
    "add_answer_to_csv_by_hand(csv_file, [19] * 100)"
   ]
  },
  {
   "cell_type": "code",
   "execution_count": null,
   "metadata": {},
   "outputs": [],
   "source": [
    "display_images_from_csv(csv_file)"
   ]
  }
 ],
 "metadata": {
  "kernelspec": {
   "display_name": "Python 3",
   "language": "python",
   "name": "python3"
  },
  "language_info": {
   "codemirror_mode": {
    "name": "ipython",
    "version": 3
   },
   "file_extension": ".py",
   "mimetype": "text/x-python",
   "name": "python",
   "nbconvert_exporter": "python",
   "pygments_lexer": "ipython3",
   "version": "3.12.4"
  }
 },
 "nbformat": 4,
 "nbformat_minor": 2
}
