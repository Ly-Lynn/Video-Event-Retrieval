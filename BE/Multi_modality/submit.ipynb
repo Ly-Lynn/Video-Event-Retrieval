{
 "cells": [
  {
   "cell_type": "code",
   "execution_count": null,
   "metadata": {},
   "outputs": [],
   "source": [
    "from encode_query import get_top_k, compute_scores"
   ]
  },
  {
   "cell_type": "code",
   "execution_count": 2,
   "metadata": {},
   "outputs": [],
   "source": [
    "import matplotlib.pyplot as plt\n",
    "import matplotlib.image as mpimg\n",
    "\n",
    "\n",
    "def display_images(image_paths, priority_index = [], title = \"\"):\n",
    "    \"\"\"\n",
    "    Displays a list of images in a single column.\n",
    "\n",
    "    Parameters:\n",
    "    image_paths (list): List of image file paths to be displayed.\n",
    "    title (str): The title for the plot.\n",
    "    \"\"\"\n",
    "    num_images = len(image_paths)\n",
    "\n",
    "    prioritized_images = [image_paths[i] for i in priority_index]\n",
    "    remain_images = [image_paths[i] for i in range(len(image_paths)) if i not in priority_index]\n",
    "    \n",
    "    image_paths = prioritized_images + remain_images\n",
    "\n",
    "    # Create a figure with num_images rows and 1 column\n",
    "    fig, axes = plt.subplots(num_images, 1, figsize=(6, num_images * 4))\n",
    "\n",
    "    # Add a title to the entire figure\n",
    "    fig.suptitle(title, fontsize=16)\n",
    "\n",
    "    # Ensure axes is always a list (handles single image case)\n",
    "    if num_images == 1:\n",
    "        axes = [axes]\n",
    "    \n",
    "    index = 0\n",
    "    # Iterate through the list of image paths and display each image\n",
    "    for ax, img_path in zip(axes, image_paths):\n",
    "        img = mpimg.imread(img_path)\n",
    "        ax.imshow(img)\n",
    "        ax.set_title(f\"Index: {index}, {img_path.split('/')[-1].split('.')[0]}\", fontsize=10)  # Set title to each image\n",
    "        # ax.set_title(f\"Index: {index}\", fontsize=10)\n",
    "        ax.axis('off')  # Hide axes\n",
    "        index += 1\n",
    "    \n",
    "    plt.tight_layout(rect=[0, 0, 1, 0.97])  # Adjust layout to fit title\n",
    "    plt.show()"
   ]
  },
  {
   "cell_type": "code",
   "execution_count": 5,
   "metadata": {},
   "outputs": [],
   "source": [
    "with open(\"/mnt/mmlab2024/datasets/thi/key_index.txt\", 'r') as r:\n",
    "  key_f = r.read().split('\\n')"
   ]
  },
  {
   "cell_type": "code",
   "execution_count": 3,
   "metadata": {},
   "outputs": [],
   "source": [
    "import pathlib\n",
    "def get_full_path_key_f(key_index):\n",
    "  infor = key_index.split('_')\n",
    "\n",
    "  jpg_path = pathlib.Path( f'/mnt/mmlab2024/nthy/Video/Videos_{infor[0]}/video/{infor[0]}_{infor[1]}/{infor[0]}_{infor[1]}_{infor[2]}.jpg')\n",
    "  png_path = pathlib.Path( f'/mnt/mmlab2024/nthy/Video/Videos_{infor[0]}/video/{infor[0]}_{infor[1]}/{infor[0]}_{infor[1]}_{infor[2]}.png')\n",
    "\n",
    "  return str(jpg_path) if jpg_path.exists() else str(png_path)\n",
    "\n",
    "\n",
    "def infer_display(query, k = 100):\n",
    "  top_probs, top_labels = get_top_k(query, k)\n",
    "  selected_key_f = [get_full_path_key_f(key_f[i]) for i in top_labels]\n",
    "  display_images(selected_key_f)\n",
    "  return top_probs, top_labels"
   ]
  },
  {
   "cell_type": "code",
   "execution_count": 4,
   "metadata": {},
   "outputs": [],
   "source": [
    "import pandas as pd\n",
    "\n",
    "def export_csv(selected_indices, output_file, priority_index=[]):\n",
    "  frame_infor = [key_f[i].split('_') for i in selected_indices]\n",
    "  video_names = [f\"{i[0]}_{i[1]}\" for i in frame_infor]\n",
    "  frame_index_in_video = [f\"{i[2]}\" for i in frame_infor]\n",
    "\n",
    "  prioritized_videos = [video_names[i] for i in priority_index]\n",
    "  remain_videos = [video_names[i] for i in range(len(video_names)) if i not in priority_index]\n",
    "\n",
    "  prioritized_frame_idx = [frame_index_in_video[i] for i in priority_index]\n",
    "  remain_frame_idx = [frame_index_in_video[i] for i in range(len(frame_index_in_video)) if i not in priority_index]\n",
    "  \n",
    "  final_video_names = prioritized_videos + remain_videos\n",
    "  final_frame_idx_in_video = prioritized_frame_idx + remain_frame_idx\n",
    "\n",
    "  final_video_names = final_video_names[0:100]\n",
    "  final_frame_idx_in_video = final_frame_idx_in_video[0:100]\n",
    "  \n",
    "  if 'qa' in output_file.split('/')[-1]:\n",
    "    df = pd.DataFrame.from_dict({\"video_name\" : final_video_names, \"index\" : final_frame_idx_in_video, \"answer\" : [\"\"] * len(final_video_names)})\n",
    "  else:\n",
    "    df = pd.DataFrame.from_dict({\"video_name\" : final_video_names, \"index\" : final_frame_idx_in_video})\n",
    "  # print(final_video_names)\n",
    "  # print(final_frame_idx_in_video)\n",
    "  \n",
    "  df.to_csv(output_file, header=False, index=False)\n",
    "    "
   ]
  },
  {
   "cell_type": "markdown",
   "metadata": {},
   "source": [
    "## RUN from here"
   ]
  },
  {
   "cell_type": "code",
   "execution_count": 13,
   "metadata": {},
   "outputs": [],
   "source": [
    "query = \"A black boat can run on ice. It is propelled by a fan engine on top that blows air backwards. This boat is a rescue vehicle to assist victims who have fallen into an ice lake.\"\n",
    "out_put_file = \"/mnt/mmlab2024/datasets/thi/test_submit/query-1-kis.csv\""
   ]
  },
  {
   "cell_type": "code",
   "execution_count": 14,
   "metadata": {},
   "outputs": [],
   "source": [
    "top_probs, top_labels = None, None\n",
    "prioritized_list = []"
   ]
  },
  {
   "cell_type": "code",
   "execution_count": null,
   "metadata": {},
   "outputs": [],
   "source": [
    "top_probs, top_labels = infer_display(query, k = 100)"
   ]
  },
  {
   "cell_type": "markdown",
   "metadata": {},
   "source": [
    "## Pick and check"
   ]
  },
  {
   "cell_type": "code",
   "execution_count": 17,
   "metadata": {},
   "outputs": [],
   "source": [
    "prioritized_list = [12, 17, 19, 22, 23, 28]"
   ]
  },
  {
   "cell_type": "code",
   "execution_count": null,
   "metadata": {},
   "outputs": [],
   "source": [
    "selected_key_f = [get_full_path_key_f(key_f[i]) for i in top_labels]\n",
    "display_images(selected_key_f, prioritized_list)"
   ]
  },
  {
   "cell_type": "code",
   "execution_count": 20,
   "metadata": {},
   "outputs": [],
   "source": [
    "export_csv(top_labels, out_put_file, priority_index=prioritized_list)"
   ]
  }
 ],
 "metadata": {
  "kernelspec": {
   "display_name": "Python 3",
   "language": "python",
   "name": "python3"
  },
  "language_info": {
   "codemirror_mode": {
    "name": "ipython",
    "version": 3
   },
   "file_extension": ".py",
   "mimetype": "text/x-python",
   "name": "python",
   "nbconvert_exporter": "python",
   "pygments_lexer": "ipython3",
   "version": "3.10.12"
  }
 },
 "nbformat": 4,
 "nbformat_minor": 2
}
