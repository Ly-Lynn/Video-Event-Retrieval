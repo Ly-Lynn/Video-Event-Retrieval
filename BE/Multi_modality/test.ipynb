{
 "cells": [
  {
   "cell_type": "code",
   "execution_count": 17,
   "metadata": {},
   "outputs": [],
   "source": [
    "import torch\n",
    "with open(r'D:\\feature_old\\key_index.txt', 'r') as r:\n",
    "  old_key = r.read().split('\\n')\n",
    "\n",
    "with open(r'D:\\feature_new\\key_index.txt', 'r') as r:\n",
    "  new_key = r.read().split('\\n')"
   ]
  },
  {
   "cell_type": "code",
   "execution_count": 4,
   "metadata": {},
   "outputs": [],
   "source": [
    "old_fea = torch.load(r\"D:\\feature_old\\final_tensors.pt\", map_location=torch.device('cpu'))\n",
    "new_fea = torch.load(r\"D:\\feature_new\\final_tensors.pt\", map_location=torch.device('cpu'))"
   ]
  },
  {
   "cell_type": "code",
   "execution_count": 22,
   "metadata": {},
   "outputs": [
    {
     "name": "stdout",
     "output_type": "stream",
     "text": [
      "0\n",
      "L01_V001_000000\n",
      "Found\n",
      "WRONG\n"
     ]
    }
   ],
   "source": [
    "ori_key = old_key[0]\n",
    "\n",
    "for j in range(len(new_key)):\n",
    "  if ori_key == new_key[j]:\n",
    "    print(j)\n",
    "    print(new_key[j])\n",
    "    print(\"Found\")\n",
    "    if torch.equal(old_fea[0], new_fea[j]):\n",
    "      print(\"OK\")\n",
    "    else:\n",
    "      print(\"WRONG\")"
   ]
  },
  {
   "cell_type": "code",
   "execution_count": 18,
   "metadata": {},
   "outputs": [
    {
     "name": "stdout",
     "output_type": "stream",
     "text": [
      "False\n"
     ]
    }
   ],
   "source": [
    "print(torch.equal(old_fea[0], new_fea[0]))"
   ]
  },
  {
   "cell_type": "code",
   "execution_count": 14,
   "metadata": {},
   "outputs": [
    {
     "name": "stdout",
     "output_type": "stream",
     "text": [
      "torch.Size([706847, 512])\n"
     ]
    }
   ],
   "source": [
    "print(new_fea.shape)"
   ]
  }
 ],
 "metadata": {
  "kernelspec": {
   "display_name": "Python 3",
   "language": "python",
   "name": "python3"
  },
  "language_info": {
   "codemirror_mode": {
    "name": "ipython",
    "version": 3
   },
   "file_extension": ".py",
   "mimetype": "text/x-python",
   "name": "python",
   "nbconvert_exporter": "python",
   "pygments_lexer": "ipython3",
   "version": "3.11.1"
  }
 },
 "nbformat": 4,
 "nbformat_minor": 2
}
